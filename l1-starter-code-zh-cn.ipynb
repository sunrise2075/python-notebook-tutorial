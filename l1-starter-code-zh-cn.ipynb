{
 "cells": [
  {
   "cell_type": "markdown",
   "metadata": {},
   "source": [
    "在开始之前，使用 iPython 笔记本时有几点需要注意一下：\n",
    "\n",
    "- 如果代码单元格被运行之后，在单元格的左侧方框中会有数字出现。\n",
    "- 当你启动一个新的笔记本会话时，请确保运行所有单元格（从第1个到你上次离开的单元格）。即使笔记本中依然可以看到上次运行所得到的输出，你重新运行的笔记本内核却处于一个完全新的状态，所以你需要重载数据和运行代码。\n",
    "- 上一条注意事项特别重要。当你的答案和课程中的练习不一致时，请试着重载数据并一个一个运行代码单元格，以确保你所操作的变量和数据和练习中的一致。\n",
    "\n",
    "\n",
    "## 从 CSV 加载数据"
   ]
  },
  {
   "cell_type": "code",
   "execution_count": 369,
   "metadata": {
    "collapsed": true
   },
   "outputs": [],
   "source": [
    "import unicodecsv\n",
    "\n",
    "## 长代码版本 (该版本与短代码版本功能一致)\n",
    "\n",
    "# enrollments = []\n",
    "# f = open('enrollments.csv', 'rb')\n",
    "# reader = unicodecsv.DictReader(f)\n",
    "# for row in reader:\n",
    "#     enrollments.append(row)\n",
    "# f.close()\n",
    "\n",
    "with open('enrollments.csv', 'rb') as f:\n",
    "    reader = unicodecsv.DictReader(f)\n",
    "    enrollments = list(reader)"
   ]
  },
  {
   "cell_type": "code",
   "execution_count": 370,
   "metadata": {
    "collapsed": true
   },
   "outputs": [],
   "source": [
    "#####################################\n",
    "#                 1                 #\n",
    "#####################################\n",
    "\n",
    "## 从 daily_engagement.csv 和 project_submissions.csv 载入数据并存\n",
    "## 储至下面的变量中，然后检查每张表的第1行。\n",
    "with open('daily-engagement.csv', 'rb') as f:\n",
    "    reader = unicodecsv.DictReader(f)\n",
    "    daily_engagement = list(reader)\n",
    "\n",
    "with open('project-submissions.csv', 'rb') as f:\n",
    "    reader = unicodecsv.DictReader(f)\n",
    "    project_submissions = list(reader)\n"
   ]
  },
  {
   "cell_type": "code",
   "execution_count": 371,
   "metadata": {},
   "outputs": [
    {
     "data": {
      "text/plain": [
       "OrderedDict([('acct', '0'),\n",
       "             ('utc_date', '2015-01-09'),\n",
       "             ('num_courses_visited', '1.0'),\n",
       "             ('total_minutes_visited', '11.6793745'),\n",
       "             ('lessons_completed', '0.0'),\n",
       "             ('projects_completed', '0.0')])"
      ]
     },
     "execution_count": 371,
     "metadata": {},
     "output_type": "execute_result"
    }
   ],
   "source": [
    "daily_engagement[0]"
   ]
  },
  {
   "cell_type": "code",
   "execution_count": 372,
   "metadata": {},
   "outputs": [
    {
     "data": {
      "text/plain": [
       "OrderedDict([('creation_date', '2015-1-14'),\n",
       "             ('completion_date', '2015-1-16'),\n",
       "             ('assigned_rating', 'UNGRADED'),\n",
       "             ('account_key', '256'),\n",
       "             ('lesson_key', '3176718735'),\n",
       "             ('processing_state', 'EVALUATED')])"
      ]
     },
     "execution_count": 372,
     "metadata": {},
     "output_type": "execute_result"
    }
   ],
   "source": [
    "project_submissions[0]"
   ]
  },
  {
   "cell_type": "code",
   "execution_count": 373,
   "metadata": {
    "collapsed": true
   },
   "outputs": [],
   "source": [
    "def read_csv(file_name):\n",
    "    with open(file_name, 'rb') as f:\n",
    "        reader = unicodecsv.DictReader(f)\n",
    "        return list(reader)"
   ]
  },
  {
   "cell_type": "code",
   "execution_count": 374,
   "metadata": {},
   "outputs": [
    {
     "data": {
      "text/plain": [
       "OrderedDict([('acct', '0'),\n",
       "             ('utc_date', '2015-01-09'),\n",
       "             ('num_courses_visited', '1.0'),\n",
       "             ('total_minutes_visited', '11.6793745'),\n",
       "             ('lessons_completed', '0.0'),\n",
       "             ('projects_completed', '0.0')])"
      ]
     },
     "execution_count": 374,
     "metadata": {},
     "output_type": "execute_result"
    }
   ],
   "source": [
    "daily_engagement[0]"
   ]
  },
  {
   "cell_type": "code",
   "execution_count": 375,
   "metadata": {},
   "outputs": [
    {
     "data": {
      "text/plain": [
       "OrderedDict([('creation_date', '2015-1-14'),\n",
       "             ('completion_date', '2015-1-16'),\n",
       "             ('assigned_rating', 'UNGRADED'),\n",
       "             ('account_key', '256'),\n",
       "             ('lesson_key', '3176718735'),\n",
       "             ('processing_state', 'EVALUATED')])"
      ]
     },
     "execution_count": 375,
     "metadata": {},
     "output_type": "execute_result"
    }
   ],
   "source": [
    "project_submissions[0]"
   ]
  },
  {
   "cell_type": "markdown",
   "metadata": {},
   "source": [
    "## 修正数据类型"
   ]
  },
  {
   "cell_type": "code",
   "execution_count": 376,
   "metadata": {},
   "outputs": [
    {
     "data": {
      "text/plain": [
       "OrderedDict([('account_key', '448'),\n",
       "             ('status', 'canceled'),\n",
       "             ('join_date', datetime.datetime(2014, 11, 10, 0, 0)),\n",
       "             ('cancel_date', datetime.datetime(2015, 1, 14, 0, 0)),\n",
       "             ('days_to_cancel', 65),\n",
       "             ('is_udacity', True),\n",
       "             ('is_canceled', True)])"
      ]
     },
     "execution_count": 376,
     "metadata": {},
     "output_type": "execute_result"
    }
   ],
   "source": [
    "from datetime import datetime as dt\n",
    "\n",
    "# 将字符串格式的时间转为 Python datetime 类型的时间。\n",
    "# 如果没有时间字符串传入，返回 None\n",
    "\n",
    "def parse_date(date):\n",
    "    if date == '':\n",
    "        return None\n",
    "    else:\n",
    "        return dt.strptime(date, '%Y-%m-%d')\n",
    "    \n",
    "# 将可能是空字符串或字符串类型的数据转为 整型 或 None。\n",
    "\n",
    "def parse_maybe_int(i):\n",
    "    if i == '':\n",
    "        return None\n",
    "    else:\n",
    "        return int(i)\n",
    "\n",
    "# 清理 enrollments 表格中的数据类型\n",
    "\n",
    "for enrollment in enrollments:\n",
    "    enrollment['cancel_date'] = parse_date(enrollment['cancel_date'])\n",
    "    enrollment['days_to_cancel'] = parse_maybe_int(enrollment['days_to_cancel'])\n",
    "    enrollment['is_canceled'] = enrollment['is_canceled'] == 'True'\n",
    "    enrollment['is_udacity'] = enrollment['is_udacity'] == 'True'\n",
    "    enrollment['join_date'] = parse_date(enrollment['join_date'])\n",
    "    \n",
    "enrollments[0]"
   ]
  },
  {
   "cell_type": "code",
   "execution_count": 377,
   "metadata": {},
   "outputs": [
    {
     "data": {
      "text/plain": [
       "OrderedDict([('acct', '0'),\n",
       "             ('utc_date', datetime.datetime(2015, 1, 9, 0, 0)),\n",
       "             ('num_courses_visited', 1),\n",
       "             ('total_minutes_visited', 11.6793745),\n",
       "             ('lessons_completed', 0),\n",
       "             ('projects_completed', 0)])"
      ]
     },
     "execution_count": 377,
     "metadata": {},
     "output_type": "execute_result"
    }
   ],
   "source": [
    "# 清理 engagement 的数据类型\n",
    "for engagement_record in daily_engagement:\n",
    "    engagement_record['lessons_completed'] = int(float(engagement_record['lessons_completed']))\n",
    "    engagement_record['num_courses_visited'] = int(float(engagement_record['num_courses_visited']))\n",
    "    engagement_record['projects_completed'] = int(float(engagement_record['projects_completed']))\n",
    "    engagement_record['total_minutes_visited'] = float(engagement_record['total_minutes_visited'])\n",
    "    engagement_record['utc_date'] = parse_date(engagement_record['utc_date'])\n",
    "    \n",
    "daily_engagement[0]"
   ]
  },
  {
   "cell_type": "code",
   "execution_count": 378,
   "metadata": {},
   "outputs": [
    {
     "data": {
      "text/plain": [
       "OrderedDict([('creation_date', datetime.datetime(2015, 1, 14, 0, 0)),\n",
       "             ('completion_date', datetime.datetime(2015, 1, 16, 0, 0)),\n",
       "             ('assigned_rating', 'UNGRADED'),\n",
       "             ('account_key', '256'),\n",
       "             ('lesson_key', '3176718735'),\n",
       "             ('processing_state', 'EVALUATED')])"
      ]
     },
     "execution_count": 378,
     "metadata": {},
     "output_type": "execute_result"
    }
   ],
   "source": [
    "# 清理 submissions 的数据类型\n",
    "for submission in project_submissions:\n",
    "    submission['completion_date'] = parse_date(submission['completion_date'])\n",
    "    submission['creation_date'] = parse_date(submission['creation_date'])\n",
    "\n",
    "project_submissions[0]"
   ]
  },
  {
   "cell_type": "code",
   "execution_count": 379,
   "metadata": {
    "collapsed": true
   },
   "outputs": [],
   "source": [
    "#####################################\n",
    "#                 3                 #\n",
    "#####################################\n",
    "\n",
    "## 将 daily_engagement 表中的 \"acct\" 重命名为 ”account_key\"\n",
    "for engagement_rec in daily_engagement:\n",
    "    engagement_rec['account_key'] = engagement_rec['acct']\n",
    "    del[engagement_rec['acct']]"
   ]
  },
  {
   "cell_type": "markdown",
   "metadata": {},
   "source": [
    "注意：当我们在运行上方的单元格时，我们已经改变了数据变量中的内容。如果你试着在同一个会话多次运行这些单元格时，可能会出错。\n",
    "\n",
    "## 探索数据"
   ]
  },
  {
   "cell_type": "code",
   "execution_count": 380,
   "metadata": {
    "collapsed": true
   },
   "outputs": [],
   "source": [
    "def get_unique_student(data):\n",
    "    unique_student = set()\n",
    "    for item in data:\n",
    "        unique_student.add(item['account_key'])\n",
    "    return unique_student"
   ]
  },
  {
   "cell_type": "code",
   "execution_count": 381,
   "metadata": {},
   "outputs": [
    {
     "name": "stdout",
     "output_type": "stream",
     "text": [
      "1640\n",
      "1302\n",
      "136240\n",
      "1237\n",
      "3642\n",
      "743\n"
     ]
    }
   ],
   "source": [
    "#####################################\n",
    "#                 2                 #\n",
    "#####################################\n",
    "\n",
    "## 计算每张表中的总行数，和独立学生（拥有独立的 account keys）的数量\n",
    "\n",
    "enrollment_num_rows = len(enrollments)\n",
    "print (enrollment_num_rows)\n",
    "unique_enrollment_student = get_unique_student(enrollments)\n",
    "unique_enrollment_student = len(unique_enrollment_student)\n",
    "print (unique_enrollment_student)\n",
    "\n",
    "engagement_num_rows = len(daily_engagement)\n",
    "print (engagement_num_rows)\n",
    "unique_engagement_student = get_unique_student(daily_engagement)\n",
    "unique_student_engagement = len(unique_engagement_student)\n",
    "print (unique_student_engagement)\n",
    "\n",
    "submission_num_rows = len(project_submissions)\n",
    "print (submission_num_rows)\n",
    "unique_submission_student = get_unique_student(project_submissions)\n",
    "unique_submissions = len(unique_submission_student)\n",
    "print (unique_submissions)\n"
   ]
  },
  {
   "cell_type": "markdown",
   "metadata": {},
   "source": [
    "## 数据中的问题"
   ]
  },
  {
   "cell_type": "markdown",
   "metadata": {},
   "source": [
    "## 缺失的互动（Engagement）记录"
   ]
  },
  {
   "cell_type": "code",
   "execution_count": 382,
   "metadata": {},
   "outputs": [
    {
     "name": "stdout",
     "output_type": "stream",
     "text": [
      "OrderedDict([('account_key', '1219'), ('status', 'canceled'), ('join_date', datetime.datetime(2014, 11, 12, 0, 0)), ('cancel_date', datetime.datetime(2014, 11, 12, 0, 0)), ('days_to_cancel', 0), ('is_udacity', False), ('is_canceled', True)])\n"
     ]
    }
   ],
   "source": [
    "#####################################\n",
    "#                 4                 #\n",
    "#####################################\n",
    "\n",
    "## 找到任意一个 enrollments 中的学生，但不在 daily engagement 表中。\n",
    "## 打印出这条 enrollments 记录。\n",
    "for enrollment_student in enrollments:\n",
    "    if enrollment_student['account_key'] not in unique_engagement_student:\n",
    "        print (enrollment_student)\n",
    "        break"
   ]
  },
  {
   "cell_type": "markdown",
   "metadata": {},
   "source": [
    "## 检查更多的问题记录"
   ]
  },
  {
   "cell_type": "code",
   "execution_count": 383,
   "metadata": {},
   "outputs": [
    {
     "name": "stdout",
     "output_type": "stream",
     "text": [
      "OrderedDict([('account_key', '1304'), ('status', 'canceled'), ('join_date', datetime.datetime(2015, 1, 10, 0, 0)), ('cancel_date', datetime.datetime(2015, 3, 10, 0, 0)), ('days_to_cancel', 59), ('is_udacity', True), ('is_canceled', True)])\n",
      "OrderedDict([('account_key', '1304'), ('status', 'canceled'), ('join_date', datetime.datetime(2015, 3, 10, 0, 0)), ('cancel_date', datetime.datetime(2015, 6, 17, 0, 0)), ('days_to_cancel', 99), ('is_udacity', True), ('is_canceled', True)])\n",
      "OrderedDict([('account_key', '1101'), ('status', 'current'), ('join_date', datetime.datetime(2015, 2, 25, 0, 0)), ('cancel_date', None), ('days_to_cancel', None), ('is_udacity', True), ('is_canceled', False)])\n"
     ]
    }
   ],
   "source": [
    "#####################################\n",
    "#                 5                 #\n",
    "#####################################\n",
    "\n",
    "## 计算无众不同的数据点条数（在 enrollments 中存在，但在 engagement 表中缺失）\n",
    "num_of_no_engagement_students = 0\n",
    "for enrollment in enrollments:\n",
    "    student_account_key = enrollment['account_key']\n",
    "    if (student_account_key not in unique_engagement_student \n",
    "        and enrollment['join_date'] != enrollment['cancel_date']):\n",
    "        print (enrollment)\n",
    "        num_of_no_engagement_students = num_of_no_engagement_students + 1\n",
    "\n",
    "\n"
   ]
  },
  {
   "cell_type": "code",
   "execution_count": 384,
   "metadata": {},
   "outputs": [
    {
     "data": {
      "text/plain": [
       "3"
      ]
     },
     "execution_count": 384,
     "metadata": {},
     "output_type": "execute_result"
    }
   ],
   "source": [
    "num_of_no_engagement_students"
   ]
  },
  {
   "cell_type": "markdown",
   "metadata": {},
   "source": [
    "# 查找Udacity测试学生账号"
   ]
  },
  {
   "cell_type": "code",
   "execution_count": 385,
   "metadata": {
    "collapsed": true
   },
   "outputs": [],
   "source": [
    "udacity_test_account = set()\n",
    "for enrollment in enrollments:\n",
    "    if enrollment['is_udacity']:\n",
    "        udacity_test_account.add(enrollment['account_key'])"
   ]
  },
  {
   "cell_type": "markdown",
   "metadata": {},
   "source": [
    "len(udacity_test_account)"
   ]
  },
  {
   "cell_type": "markdown",
   "metadata": {},
   "source": [
    "## 追踪剩余的问题"
   ]
  },
  {
   "cell_type": "code",
   "execution_count": 386,
   "metadata": {},
   "outputs": [
    {
     "data": {
      "text/plain": [
       "6"
      ]
     },
     "execution_count": 386,
     "metadata": {},
     "output_type": "execute_result"
    }
   ],
   "source": [
    "# 为所有 Udacity 测试帐号建立一组 set \n",
    "udacity_test_accounts = set()\n",
    "for enrollment in enrollments:\n",
    "    if enrollment['is_udacity']:\n",
    "        udacity_test_accounts.add(enrollment['account_key'])\n",
    "len(udacity_test_accounts)"
   ]
  },
  {
   "cell_type": "code",
   "execution_count": 387,
   "metadata": {
    "collapsed": true
   },
   "outputs": [],
   "source": [
    "# 通过 account_key 删除所有 Udacity 的测试帐号\n",
    "def remove_udacity_accounts(data):\n",
    "    non_udacity_data = []\n",
    "    for data_point in data:\n",
    "        if data_point['account_key'] not in udacity_test_accounts:\n",
    "            non_udacity_data.append(data_point)\n",
    "    return non_udacity_data"
   ]
  },
  {
   "cell_type": "code",
   "execution_count": 388,
   "metadata": {},
   "outputs": [
    {
     "name": "stdout",
     "output_type": "stream",
     "text": [
      "1622\n",
      "135656\n",
      "3634\n"
     ]
    }
   ],
   "source": [
    "# 从3张表中移除所有 Udacity 的测试帐号\n",
    "non_udacity_enrollments = remove_udacity_accounts(enrollments)\n",
    "non_udacity_engagement = remove_udacity_accounts(daily_engagement)\n",
    "non_udacity_submissions = remove_udacity_accounts(project_submissions)\n",
    "print (len(non_udacity_enrollments))\n",
    "print (len(non_udacity_engagement))\n",
    "print (len(non_udacity_submissions))"
   ]
  },
  {
   "cell_type": "code",
   "execution_count": 389,
   "metadata": {},
   "outputs": [
    {
     "data": {
      "text/plain": [
       "1622"
      ]
     },
     "execution_count": 389,
     "metadata": {},
     "output_type": "execute_result"
    }
   ],
   "source": [
    "len(non_udacity_enrollments)"
   ]
  },
  {
   "cell_type": "code",
   "execution_count": 390,
   "metadata": {},
   "outputs": [
    {
     "data": {
      "text/plain": [
       "135656"
      ]
     },
     "execution_count": 390,
     "metadata": {},
     "output_type": "execute_result"
    }
   ],
   "source": [
    "len(non_udacity_engagement)"
   ]
  },
  {
   "cell_type": "code",
   "execution_count": 391,
   "metadata": {},
   "outputs": [
    {
     "data": {
      "text/plain": [
       "3634"
      ]
     },
     "execution_count": 391,
     "metadata": {},
     "output_type": "execute_result"
    }
   ],
   "source": [
    "len(non_udacity_submissions)"
   ]
  },
  {
   "cell_type": "markdown",
   "metadata": {},
   "source": [
    "## 重新定义问题"
   ]
  },
  {
   "cell_type": "code",
   "execution_count": 392,
   "metadata": {},
   "outputs": [
    {
     "data": {
      "text/plain": [
       "1622"
      ]
     },
     "execution_count": 392,
     "metadata": {},
     "output_type": "execute_result"
    }
   ],
   "source": [
    "len(non_udacity_enrollments)"
   ]
  },
  {
   "cell_type": "code",
   "execution_count": 393,
   "metadata": {
    "collapsed": true
   },
   "outputs": [],
   "source": [
    "#####################################\n",
    "#                 6                 #\n",
    "#####################################\n",
    "\n",
    "## 创建一个叫 paid_students 的字典，并在字典中存储所有还没有取消或者注册时间超过7天的学生。\n",
    "## 字典的键为帐号（account key），值为学生注册的时间。\n",
    "\n",
    "paid_students ={}\n",
    "for enrollment in non_udacity_enrollments:\n",
    "    account_key = enrollment['account_key']\n",
    "    join_date = enrollment['join_date']\n",
    "    \n",
    "    days_to_cancel = enrollment['days_to_cancel']\n",
    "    is_canceled = enrollment['is_canceled']\n",
    "    if (not is_canceled or days_to_cancel >7):\n",
    "        # update the value with latest join_date in the dictionary of paid_students\n",
    "        if account_key not in paid_students or join_date > paid_students[account_key]:\n",
    "            # or 两端的两个表达式的顺序很重要：显然如果不满足第一个条件，第二个表达式就会报错\n",
    "            paid_students[account_key] = join_date"
   ]
  },
  {
   "cell_type": "code",
   "execution_count": 394,
   "metadata": {},
   "outputs": [
    {
     "data": {
      "text/plain": [
       "995"
      ]
     },
     "execution_count": 394,
     "metadata": {},
     "output_type": "execute_result"
    }
   ],
   "source": [
    "len(paid_students)"
   ]
  },
  {
   "cell_type": "markdown",
   "metadata": {},
   "source": [
    "## 获取第1周的数据\n",
    "获取第1周的数据"
   ]
  },
  {
   "cell_type": "code",
   "execution_count": 395,
   "metadata": {
    "collapsed": true
   },
   "outputs": [],
   "source": [
    "# 基于学生的加入日期和特定一天的互动记录，若该互动记录发生在学生加入1周内，则反回 True\n",
    "def within_one_week(join_date, engagement_date):\n",
    "    time_delta = engagement_date - join_date\n",
    "    return time_delta.days < 7 and time_delta.days >=0"
   ]
  },
  {
   "cell_type": "code",
   "execution_count": 396,
   "metadata": {
    "collapsed": true
   },
   "outputs": [],
   "source": [
    " # 建立一个函数，在过滤掉与未付费的学生相关的数据\n",
    " # 返回一个数组类型的数据结构\n",
    "def filter_out_unpaid_students_data(data):\n",
    "    data_of_paid_students = []\n",
    "    for item in data:\n",
    "        account_key = item['account_key']\n",
    "        if account_key in paid_students:\n",
    "            data_of_paid_students.append(item)\n",
    "    return data_of_paid_students"
   ]
  },
  {
   "cell_type": "code",
   "execution_count": 397,
   "metadata": {},
   "outputs": [
    {
     "name": "stdout",
     "output_type": "stream",
     "text": [
      "1293\n",
      "134549\n",
      "3618\n"
     ]
    }
   ],
   "source": [
    "paid_enrollments = filter_out_unpaid_students_data(non_udacity_enrollments)\n",
    "paid_engagement = filter_out_unpaid_students_data(non_udacity_engagement)\n",
    "paid_submissions = filter_out_unpaid_students_data(non_udacity_submissions)\n",
    "\n",
    "print (len(paid_enrollments))\n",
    "print (len(paid_engagement))\n",
    "print (len(paid_submissions))"
   ]
  },
  {
   "cell_type": "code",
   "execution_count": 398,
   "metadata": {
    "collapsed": true
   },
   "outputs": [],
   "source": [
    "#####################################\n",
    "#                 7                 #\n",
    "#####################################\n",
    "\n",
    "## 创建一个 engagement 记录的列表，该列表只包括付费学生以及加入的前7天的学生的记录\n",
    "## 输入符合要求的行数\n",
    "\n",
    "paid_engagement_in_first_week = []\n",
    "\n",
    "for engagement in paid_engagement:    \n",
    "    account_key = engagement['account_key']\n",
    "    # fetch join_date from paid_students dict\n",
    "    join_date = paid_students[account_key]\n",
    "    # fetch engagement_date from paid_engagement row record\n",
    "    engagement_date = engagement['utc_date']\n",
    "    if within_one_week(join_date, engagement_date):\n",
    "        paid_engagement_in_first_week.append(engagement)"
   ]
  },
  {
   "cell_type": "code",
   "execution_count": 399,
   "metadata": {},
   "outputs": [
    {
     "data": {
      "text/plain": [
       "6919"
      ]
     },
     "execution_count": 399,
     "metadata": {},
     "output_type": "execute_result"
    }
   ],
   "source": [
    "len(paid_engagement_in_first_week)"
   ]
  },
  {
   "cell_type": "markdown",
   "metadata": {},
   "source": [
    "## Exploring Student Engagement"
   ]
  },
  {
   "cell_type": "markdown",
   "metadata": {},
   "source": [
    "## 统计教室访问次数并且增加相关数据列"
   ]
  },
  {
   "cell_type": "code",
   "execution_count": 400,
   "metadata": {
    "collapsed": true
   },
   "outputs": [],
   "source": [
    "def create_classroom_visit_count_column():\n",
    "    for engagement in paid_engagement_in_first_week:\n",
    "        num_courses_visited = engagement['num_courses_visited']\n",
    "        if num_courses_visited>0:\n",
    "            engagement['classroom_visit_count']=1\n",
    "        else:\n",
    "            engagement['classroom_visit_count']=0"
   ]
  },
  {
   "cell_type": "code",
   "execution_count": 401,
   "metadata": {
    "collapsed": true
   },
   "outputs": [],
   "source": [
    "## 调用函数增加新的数据列\n",
    "create_classroom_visit_count_column()"
   ]
  },
  {
   "cell_type": "code",
   "execution_count": 402,
   "metadata": {
    "collapsed": true
   },
   "outputs": [],
   "source": [
    "from collections import defaultdict\n",
    "\n",
    "# 创建基于 student 对 engagement 进行分组的字典，字典的键为帐号（account key），值为包含互动记录的列表\n",
    "# 基于学生账号归类互动数据， 这是一次非常有益的尝试\n",
    "engagement_by_account = defaultdict(list)\n",
    "for engagement_record in paid_engagement_in_first_week:\n",
    "    account_key = engagement_record['account_key']\n",
    "    engagement_by_account[account_key].append(engagement_record)"
   ]
  },
  {
   "cell_type": "code",
   "execution_count": 403,
   "metadata": {
    "collapsed": true
   },
   "outputs": [],
   "source": [
    "# 创建一个包含学生在第1周在教室所花总时间和字典。键为帐号（account key），值为数字（所花总时间）\n",
    "total_minutes_by_account = {}\n",
    "for account_key, engagement_for_student in engagement_by_account.items():\n",
    "    total_minutes = 0\n",
    "    for engagement_record in engagement_for_student:\n",
    "        total_minutes += engagement_record['total_minutes_visited']\n",
    "    total_minutes_by_account[account_key] = total_minutes"
   ]
  },
  {
   "cell_type": "code",
   "execution_count": 404,
   "metadata": {},
   "outputs": [
    {
     "name": "stdout",
     "output_type": "stream",
     "text": [
      "Mean: 306.708326753\n",
      "Standard deviation: 412.996933409\n",
      "Minimum: 0.0\n",
      "Maximum: 3564.7332645\n"
     ]
    }
   ],
   "source": [
    "import numpy as np\n",
    "\n",
    "# 汇总和描述关于教室所花时间的数据\n",
    "total_minutes = list(total_minutes_by_account.values())\n",
    "print ('Mean:', np.mean(total_minutes))\n",
    "print ('Standard deviation:', np.std(total_minutes))\n",
    "print ('Minimum:', np.min(total_minutes))\n",
    "print ('Maximum:', np.max(total_minutes))"
   ]
  },
  {
   "cell_type": "markdown",
   "metadata": {},
   "source": [
    "## 纠错现有的数据分析代码"
   ]
  },
  {
   "cell_type": "code",
   "execution_count": 405,
   "metadata": {},
   "outputs": [
    {
     "name": "stdout",
     "output_type": "stream",
     "text": [
      "163\n",
      "3564.7332644989997\n"
     ]
    }
   ],
   "source": [
    "#####################################\n",
    "#                 8                 #\n",
    "#####################################\n",
    "\n",
    "## 通过之前的方法检查是否有问题数据存在。\n",
    "## 定位至少一条异常数据，打印出来并检查。\n",
    "## 有一个学生在一周内的学习时间达到10568.1008673分钟\n",
    "## 这是什么概念呢？10568/60/24 = 7.33天\n",
    "## 也就会说七天七夜不眠不休，这条数据是不是有问题？\n",
    "## 来吧，让我们找到这一条数据\n",
    "\n",
    "student_max_minutes_num=0\n",
    "max_minutes_accout_key = None\n",
    "for account_key, total_minutes_num in total_minutes_by_account.items():\n",
    "    if total_minutes_num>student_max_minutes_num:\n",
    "        student_max_minutes_num=total_minutes_num\n",
    "        max_minutes_accout_key = account_key\n",
    "        \n",
    "print (max_minutes_accout_key)\n",
    "print (student_max_minutes_num)"
   ]
  },
  {
   "cell_type": "markdown",
   "metadata": {},
   "source": [
    "# 打印并且人工检查数据内容 "
   ]
  },
  {
   "cell_type": "code",
   "execution_count": 406,
   "metadata": {},
   "outputs": [
    {
     "name": "stdout",
     "output_type": "stream",
     "text": [
      "Actual join date of this student: 2015-07-09 00:00:00\n",
      "------------------------------------------------------\n",
      "I want to see all the angagement data of this student:\n",
      "------------------------------------------------------\n",
      "[OrderedDict([('utc_date', datetime.datetime(2015, 7, 9, 0, 0)), ('num_courses_visited', 4), ('total_minutes_visited', 850.519339666), ('lessons_completed', 4), ('projects_completed', 0), ('account_key', '163'), ('classroom_visit_count', 1)]), OrderedDict([('utc_date', datetime.datetime(2015, 7, 10, 0, 0)), ('num_courses_visited', 6), ('total_minutes_visited', 872.633923334), ('lessons_completed', 6), ('projects_completed', 0), ('account_key', '163'), ('classroom_visit_count', 1)]), OrderedDict([('utc_date', datetime.datetime(2015, 7, 11, 0, 0)), ('num_courses_visited', 2), ('total_minutes_visited', 777.018903666), ('lessons_completed', 6), ('projects_completed', 0), ('account_key', '163'), ('classroom_visit_count', 1)]), OrderedDict([('utc_date', datetime.datetime(2015, 7, 12, 0, 0)), ('num_courses_visited', 1), ('total_minutes_visited', 294.568774), ('lessons_completed', 2), ('projects_completed', 0), ('account_key', '163'), ('classroom_visit_count', 1)]), OrderedDict([('utc_date', datetime.datetime(2015, 7, 13, 0, 0)), ('num_courses_visited', 3), ('total_minutes_visited', 471.2139785), ('lessons_completed', 1), ('projects_completed', 0), ('account_key', '163'), ('classroom_visit_count', 1)]), OrderedDict([('utc_date', datetime.datetime(2015, 7, 14, 0, 0)), ('num_courses_visited', 2), ('total_minutes_visited', 298.778345333), ('lessons_completed', 1), ('projects_completed', 0), ('account_key', '163'), ('classroom_visit_count', 1)]), OrderedDict([('utc_date', datetime.datetime(2015, 7, 15, 0, 0)), ('num_courses_visited', 0), ('total_minutes_visited', 0.0), ('lessons_completed', 0), ('projects_completed', 0), ('account_key', '163'), ('classroom_visit_count', 0)])]\n",
      "\n",
      "\n"
     ]
    }
   ],
   "source": [
    "print ('Actual join date of this student:',paid_students[max_minutes_accout_key])\n",
    "\n",
    "print ('------------------------------------------------------')\n",
    "print ('I want to see all the angagement data of this student:')\n",
    "print ('------------------------------------------------------')\n",
    "\n",
    "for account_key, engagement_for_student in engagement_by_account.items():\n",
    "    if account_key==max_minutes_accout_key:\n",
    "        print (engagement_for_student)\n",
    "        print ('\\n')\n",
    "\n",
    "## 通过对比可以发现，\n",
    "## 目标学生的join_date是2015-04-20 00:00:00\n",
    "## 该学生的engagement记录中有许多早于这个日期的记录\n",
    "## 这说明函数within_one_week出现问题了\n",
    "## 此外，为什么会有这样的数据出现在数据集中间，这个问题也非常值得思考\n"
   ]
  },
  {
   "cell_type": "code",
   "execution_count": 407,
   "metadata": {
    "collapsed": true
   },
   "outputs": [],
   "source": [
    "## 抽象一个公用函数用来在控制台打印统计数据信息\n",
    "def show_statistics_data(student_number_list):\n",
    "    print ('Mean:', np.mean(student_number_list))\n",
    "    print ('Standard deviation:', np.std(student_number_list))\n",
    "    print ('Minimum:', np.min(student_number_list))\n",
    "    print ('Maximum:', np.max(student_number_list))"
   ]
  },
  {
   "cell_type": "code",
   "execution_count": 408,
   "metadata": {
    "collapsed": true
   },
   "outputs": [],
   "source": [
    "def calculate_total_by_account(field_name):\n",
    "    total_number_by_account = {}\n",
    "    for account_key, engagements_for_student in engagement_by_account.items():\n",
    "        total_number = 0\n",
    "        for engagement_record in engagements_for_student:\n",
    "            total_number += engagement_record[field_name]\n",
    "        total_number_by_account[account_key] = total_number\n",
    "    return total_number_by_account"
   ]
  },
  {
   "cell_type": "markdown",
   "metadata": {},
   "source": [
    "## 第1周完成的课程数（Lessons）"
   ]
  },
  {
   "cell_type": "code",
   "execution_count": 409,
   "metadata": {
    "scrolled": true
   },
   "outputs": [
    {
     "name": "stdout",
     "output_type": "stream",
     "text": [
      "Mean: 2.86733668342\n",
      "Standard deviation: 2.25519800292\n",
      "Minimum: 0\n",
      "Maximum: 7\n"
     ]
    }
   ],
   "source": [
    "#####################################\n",
    "#                 9                 #\n",
    "#####################################\n",
    "\n",
    "## 修改之前的代码，找出第1周学生完成课程数的 平均值、标准差、最小值、最大值。尝试创建一个或更多的函数来复用之前的代码\n",
    "total_by_account = calculate_total_by_account('classroom_visit_count')\n",
    "total_by_account_value_list = list(total_by_account.values())\n",
    "show_statistics_data(total_by_account_value_list);"
   ]
  },
  {
   "cell_type": "markdown",
   "metadata": {},
   "source": [
    "## 第1周的访问次数"
   ]
  },
  {
   "cell_type": "code",
   "execution_count": 410,
   "metadata": {},
   "outputs": [
    {
     "name": "stdout",
     "output_type": "stream",
     "text": [
      "Mean: 2.86733668342\n",
      "Standard deviation: 2.25519800292\n",
      "Minimum: 0\n",
      "Maximum: 7\n"
     ]
    }
   ],
   "source": [
    "######################################\n",
    "#                 10                 #\n",
    "######################################\n",
    "\n",
    "## 找出第1周学生访问教室天数的平均值、标准差、最小值、最大值。\n",
    "## 访问课程的次数大于1，即相当于访问教师的次数微1\n",
    "total_by_account = calculate_total_by_account('classroom_visit_count')\n",
    "total_by_account_value_list = list(total_by_account.values())\n",
    "show_statistics_data(total_by_account_value_list);"
   ]
  },
  {
   "cell_type": "markdown",
   "metadata": {},
   "source": [
    "## 区分项目通过的学生"
   ]
  },
  {
   "cell_type": "code",
   "execution_count": 411,
   "metadata": {},
   "outputs": [
    {
     "name": "stdout",
     "output_type": "stream",
     "text": [
      "4527\n",
      "2392\n"
     ]
    }
   ],
   "source": [
    "######################################\n",
    "#                 11                 #\n",
    "######################################\n",
    "\n",
    "## 创建两个付费学生第1周的互动数据列表（engagement）。第1个包含通过项目的学生，第2个包含没通过项目的学生。\n",
    "\n",
    "subway_project_lesson_keys = ['746169184', '3176718735']\n",
    "\n",
    "# 我要从项目提交数据中找到那些学院账号通过了项目\n",
    "passing_account_keys = set()\n",
    "for submission in paid_submissions:\n",
    "    account_key = submission['account_key']\n",
    "    lesson_key = submission['lesson_key']\n",
    "    assigned_rating = submission['assigned_rating']\n",
    "    if ((lesson_key in subway_project_lesson_keys) and (assigned_rating=='PASSED' or assigned_rating=='DISTINCTION')):\n",
    "        passing_account_keys.add(account_key)\n",
    "\n",
    "\n",
    "# 打印项目通过的学生数量\n",
    "#print (len(passing_account_keys))\n",
    "\n",
    "passing_engagement =[]\n",
    "non_passing_engagement =[]\n",
    "\n",
    "for engagement in paid_engagement_in_first_week:\n",
    "    account_key = engagement['account_key']\n",
    "    if account_key in passing_account_keys:\n",
    "        passing_engagement.append(engagement)\n",
    "    else:\n",
    "        non_passing_engagement.append(engagement)\n",
    "\n",
    "print(len(passing_engagement))\n",
    "print (len(non_passing_engagement))"
   ]
  },
  {
   "cell_type": "markdown",
   "metadata": {},
   "source": [
    "## 对比两组学生数据"
   ]
  },
  {
   "cell_type": "code",
   "execution_count": 412,
   "metadata": {},
   "outputs": [
    {
     "name": "stdout",
     "output_type": "stream",
     "text": [
      "\n",
      "Comparing total_minutes_visited:\n",
      "\n",
      "---------------------------------\n",
      "Comparing lessons_completed:\n",
      "How to calculate and compare days_visited?\n"
     ]
    }
   ],
   "source": [
    "######################################\n",
    "#                 12                 #\n",
    "######################################\n",
    "\n",
    "def group_data(data_list, field_name):\n",
    "    result_dict = defaultdict(list)\n",
    "    for item in data_list:\n",
    "        field_value = item[field_name]\n",
    "        result_dict[field_value].append(item)\n",
    "    return result_dict\n",
    "    \n",
    "def sum_group_items(data_dict, field_name):\n",
    "    total_number_by_key = {}\n",
    "    for account_key, items_for_key in data_dict.items():\n",
    "        total_number = 0\n",
    "        for item in items_for_key:\n",
    "            total_number += item[field_name]\n",
    "        total_number_by_key[account_key] = total_number\n",
    "    return total_number_by_key\n",
    "\n",
    "## 计算你所感兴趣的数据指标，并分析通过项目和没有通过项目的两组学生有何异同。\n",
    "## 你可以从我们之前使用过的数据指标开始（教室的访问时间、课程完成数、访问天数）。\n",
    "passing_dict = group_data(passing_engagement, 'account_key')\n",
    "non_passing_dict = group_data(non_passing_engagement, 'account_key')\n",
    "\n",
    "print(\"\")\n",
    "print(\"Comparing total_minutes_visited:\")\n",
    "passing1 = sum_group_items(passing_dict, 'total_minutes_visited')\n",
    "non_passing1 = sum_group_items(non_passing_dict, 'total_minutes_visited')\n",
    "\n",
    "# print (\"Students who passed:\")\n",
    "# show_statistics_data(list(passing1.values()))\n",
    "# print (\"\")\n",
    "# print (\"Students who didn't pass:\")\n",
    "# show_statistics_data(list(non_passing1.values()))\n",
    "\n",
    "print(\"\")\n",
    "print(\"---------------------------------\")\n",
    "print(\"Comparing lessons_completed:\")\n",
    "passing2 = sum_group_items(passing_dict, 'lessons_completed')\n",
    "non_passing2 = sum_group_items(non_passing_dict, 'lessons_completed')\n",
    "\n",
    "# print (\"Students who passed:\")\n",
    "# show_statistics_data(list(passing2.values()))\n",
    "# print (\"\")\n",
    "# print (\"Students who didn't pass:\")\n",
    "# show_statistics_data(list(non_passing2.values()))\n",
    "\n",
    "\n",
    "print (\"How to calculate and compare days_visited?\")"
   ]
  },
  {
   "cell_type": "markdown",
   "metadata": {},
   "source": [
    "## 制作直方图"
   ]
  },
  {
   "cell_type": "code",
   "execution_count": 413,
   "metadata": {
    "scrolled": true
   },
   "outputs": [
    {
     "name": "stdout",
     "output_type": "stream",
     "text": [
      "Comparing total_minutes_visited:\n",
      "Students who passed:\n",
      "show_statistics_data_and_graph:\n",
      "[494.88049616599994, 18.576384666670002, 0.0, 0.0, 33.3214046667, 329.7578566663, 780.4545511666701, 104.20388850009999, 989.113641833, 448.471384167, 130.12347833367, 0.0, 179.4719088333, 1013.3833969996999, 65.6221875, 983.375040335, 119.12030049999998, 235.49969150033, 155.1361575, 0.0, 447.93897783336996, 931.1036911666699, 657.2052335000001, 1591.3228143334, 943.188117167, 0.0, 430.801675833, 1579.12122666663, 766.256315667, 556.1906033333, 69.6578351667, 0.0, 123.2915048333, 253.9870258334, 180.413814, 765.6402170004, 809.2138958339, 1378.195091668, 0.0, 1001.5888595, 478.21952616690004, 511.925391, 576.4643026663, 88.822038, 0.0, 0.0, 26.1189351667, 854.8288881656, 1055.6871896667, 0.0, 491.9087078335, 0.0, 3.22752383333, 401.97479050029995, 427.764673834, 589.6171318323301, 106.72208133333001, 91.3514995, 1024.109326834, 47.1679638333, 0.0, 496.99219366667, 293.383122167, 465.58233333400005, 346.5030268336, 422.27366000010005, 6.95969283333, 856.8375048337, 0.0, 0.0, 310.04241416702996, 53.5545175, 704.5521115003299, 0.0, 90.48065633329999, 20.8106506667, 186.549237333, 231.80801666640002, 0.0, 416.49598383333, 106.2245978334, 227.6363853331, 537.5285965007, 293.4918854997, 752.4780518326, 500.4921706667001, 0.0, 1035.306503999, 0.0, 63.79716583327, 114.43403466663, 84.9883638333, 611.3200641666999, 751.2236896667, 0.0, 45.3963998333, 8.46994183333, 525.6444536663, 317.10422516660003, 145.70615016660003, 148.7306783333, 277.0299235, 1075.0625133337, 839.123771167, 312.1800340007, 29.0687406666, 171.2928940001, 164.27089083347, 1167.52455983297, 1214.55291799937, 169.159592167, 388.23059683327006, 83.7769855, 186.94018933324, 167.606683, 886.0703749999001, 129.2449371666, 891.8733579995999, 672.9427816664, 266.1378745, 285.36239183329997, 530.1415103337, 0.0, 51.0695815, 1410.5316330013002, 33.4956098333, 334.5606256663, 743.1407118340001, 101.387314333, 0.0, 0.0, 1196.803629999, 80.2133103333, 1017.1034851664001, 613.2567715002999, 34.1685658333, 696.2475044997, 90.3995656667, 86.4587005, 2050.1156751667004, 544.992658666, 201.21822283370003, 405.0228675003, 384.69492683359994, 893.4411686660001, 11.554518, 0.0, 0.0, 56.835209, 414.14088366667, 908.4660900005999, 745.1146233329999, 116.8988095, 736.9791355, 0.0, 635.5124964993, 8.3032715, 0.0, 0.0, 630.1675615003, 531.8882431671, 532.6464248333, 3564.7332644989997, 765.55279683203, 962.5736773336, 0.0, 0.0, 120.87673000033001, 92.5594045, 586.7042849994001, 1887.391213833, 589.8798286670001, 12.9807116667, 414.12743866659997, 2375.7954986677, 1051.5771371676, 570.776941833, 783.3383063341, 913.6758890002999, 95.4642313333, 651.9806806667, 310.2486779997, 418.01940599970004, 247.9964674996, 0.0, 601.3632028330001, 629.3766914993301, 6.20617616667, 1251.6466043334, 7.94751166667, 137.2655706667, 402.42499849989997, 121.07599299993, 315.44705699977, 1166.4244791677, 383.1542506668, 931.3076661670001, 809.546996001, 1452.709982333, 448.5325424996, 0.0, 219.2389440004, 605.7708455, 686.7681608344001, 315.34049566659996, 633.1473566663, 114.39214366666, 356.77551816640005, 4.55604183333, 421.2835453327, 593.1472776666001, 168.3080953333, 836.3458141666999, 30.3670653333, 662.64059800003, 58.36346116669999, 0.0, 2393.5421573319004, 272.6840003337, 467.6978279993, 178.70479883369998, 241.8322233337, 151.60938049966, 30.647238166630004, 247.9695998334, 439.05929566669994, 485.78090949999995, 360.4108591662, 131.7264965, 197.41214399993, 9.75699783333, 1168.2526861667002, 197.0435864997, 931.3838908327, 0.0, 467.5716475007, 704.5008775003, 330.1826238337, 40.220247, 0.0, 288.9210591667, 554.59261383367, 46.605140666699995, 123.5804105, 669.9961104997, 277.3369746671, 183.134135333, 877.8003651663, 284.6907063333, 175.613687167, 343.35795733340007, 0.0, 600.5757328336, 221.72389316627002, 0.0, 39.485681500000005, 595.2719906673, 736.3565788330001, 638.934161833, 0.0, 42.4569508333, 417.4064971669, 110.09569266679999, 371.26458716729996, 1420.1479191659998, 211.5840809997, 314.3331800003, 322.475557667, 1020.3306876671, 830.83625116633, 1203.2224428333002, 70.48434450007001, 1435.0160603327001, 44.477798999970005, 429.03252133340004, 884.915487, 0.0, 143.048056833, 255.53718516670003, 0.0, 570.5658495, 269.194508, 302.608719833, 109.141489, 195.9300631667, 283.36202233326, 4.58531166667, 955.78319766497, 442.37721166627, 0.0, 192.665344, 497.8218254996, 405.600248833, 421.6092228329, 199.06043566667, 338.67828999970004, 213.4699951663, 0.0, 88.12990766662999, 669.9500983341, 165.37368716699999, 2700.4878774989998, 194.7560403337, 538.88974533303, 0.0, 4.19664316667, 554.8758693333999, 150.7999871667, 843.170594833, 59.239222, 888.6124170002998, 1341.720517667, 657.0126268326, 1735.943607166, 2778.3161446706704, 196.3044158337, 343.6706583329, 859.426280833, 0.0, 0.0, 397.24734133329997, 1669.9007213329999, 370.8747679997, 1426.2515225012999, 355.96292199997, 667.7495933323299, 638.196504333, 187.9226685, 501.941580166, 124.52342500033, 129.087694, 0.0, 855.4038108340001, 278.6769970004, 0.0, 13.2610473333, 0.0, 392.473794834, 35.531418, 0.0, 83.295313, 614.9778563333, 246.61175300029998, 248.12435916639998, 713.3479524992999, 0.0, 211.3875440003, 107.74437683336001, 320.97561616674, 729.8468485, 122.07255516670001, 609.2861186673, 944.5557876659999, 64.7772518334, 105.06483083340001, 71.4977216667, 2530.5614099997, 677.2790736659999, 1053.7764165013, 58.3151085, 0.0, 0.0, 37.6347753333, 23.55166316667, 220.21062866679998, 817.9997333323399, 42.3843405, 0.0, 4.24015233333, 197.066153, 532.5829673333, 30.5476253333, 506.55911883299996, 65.9101326667, 803.3391453328, 0.0, 391.3939735, 51.9296121667, 0.0, 73.6446115, 212.1774728337, 925.7537420007, 446.4724451667, 0.0, 0.0, 1208.05215466633, 131.7464566667, 137.9929768333, 0.0, 427.5369333332, 3.3318835, 808.5665558337, 2.17768916667, 0.0, 34.50448516667, 12.05914466667, 177.5920131668, 239.61664966700002, 0.0, 0.0, 604.355107166, 611.4195701674, 741.2804391669999, 57.2638435, 500.9127926667, 59.7725306667, 364.480768, 951.118714666, 0.0, 55.49376599997, 578.9502861663, 68.0673978333, 0.0, 722.84210483367, 22.14904683337, 86.7824926667, 6.72066133333, 96.80278150000001, 357.275143834, 311.1889536663, 127.15142850000001, 0.0, 975.587918167, 0.0, 413.5420181666, 726.26075933267, 0.0, 1024.0636758326, 77.9742268333, 437.22883383330003, 81.51043433337, 696.5725646662999, 433.22729549969995, 858.37418699973, 39.4918656667, 363.94914149996, 847.38115366667, 45.9874008334, 1065.2951291673999, 184.162204667, 1001.813550333, 0.0, 46.3023048333, 90.90472849993, 119.916663667, 20.247478, 1096.72738949933, 79.9306696666, 36.434234, 514.86060716603, 141.19407999967, 438.50690233336, 27.37808133337, 547.552952834, 0.0, 943.8555468324001, 116.03298466660002, 89.6344988334, 749.194206334, 633.4301786670001, 503.05470083299997, 53.1803671667, 131.94636750003, 207.27739616670002, 224.91582050030001, 884.7240451653, 68.2496686666, 174.4431463334, 0.0, 285.75573750030003, 164.161086, 46.6148, 779.5860966676, 4.45095966667, 316.43186650009994, 0.0, 599.325108667, 29.5289625001, 716.3825241659999, 18.786721, 411.84511316623, 188.8958254999, 551.1900968329701, 101.401498833, 829.9734088337, 32.447970500029996, 640.0351108333, 0.0, 586.7405209996, 591.1435670003, 414.253240333, 1217.1688571673, 448.741092333, 385.2513571667001, 367.3854126667, 229.2620115, 32.8227305, 504.04492916670006, 2.8138905, 388.7726185, 459.3740381662999, 75.8750386667, 92.3539813334, 736.5973803337, 307.0653258337, 143.78600349967, 493.53649199967003, 4.26499566667, 626.2345113327, 62.84829066659999, 265.47810483300003, 454.17951166700004, 1381.1028195004, 980.5763799994, 231.0283105, 109.5149769999, 406.0453698336, 303.55134400000003, 61.33310733329999, 0.0, 0.0, 670.3438828333, 256.4187193326, 514.0743979996, 0.0, 1896.7540938320003, 594.0435458336, 422.6295078334, 455.19857933369997, 609.6590520007001, 629.7823334996999, 0.0, 30.6256575, 7.1116735, 172.5712248333, 440.96130916723, 20.879544833329998, 1036.951593167, 183.7893518334, 1421.7436063333, 307.7543378337, 41.7786686667, 0.0, 769.207330667, 32.0522478333, 18.9512853333, 0.0, 932.3012898327, 507.1024986672999, 272.16654083369997, 294.34356566670004, 187.25140866697, 1245.8182150003, 0.0, 105.24544450007, 61.7853381666, 52.4319528333, 326.448714, 21.972605, 18.4937245, 518.1875990003, 133.319127167, 321.3727448333, 28.9028346666, 1477.0239483322998, 173.9382718334, 0.0, 907.111293668, 924.2469394994, 0.0, 400.8135763341, 911.11994133237, 120.55847799993, 28.5667518333, 298.253430333, 712.1588875006701, 122.48917700033, 2.4822425, 762.169280667, 0.0, 535.00554450033, 77.7392298333, 9.64132116667, 84.6351145, 4.56274816667, 0.0, 0.0, 488.40353200030006, 0.0, 0.0, 335.5259626667, 311.07236283327, 1047.649452501, 399.2498304993, 146.89298433300002, 24.87366349997, 0.0, 615.9597956661, 207.9139188337, 1890.9937024994, 218.3752333334, 456.3332818333, 547.7397464997, 248.29428850003, 73.7238143333, 653.1940411656001, 382.93037050067, 52.9136506667, 545.9623025, 101.1193401667, 108.47527400000001, 321.2057135, 432.987765666, 513.8126981664001, 1482.9020456663002, 557.5625511664, 204.02415449966998, 396.82058733329995, 230.70437450010002, 1026.8480728333, 0.0, 95.1225038333, 1047.4820013337, 203.3427993337, 374.365616, 394.5387589999, 237.7646521667, 84.558989, 1689.189059835, 223.73943383300002, 80.5941101667, 169.3917738333, 89.0572956666, 416.14186616669997, 0.0, 340.70627749999994, 421.960349833, 793.6706421670001, 488.3752611667, 847.3979861667, 264.5287276666, 73.5741316667, 129.1323983333, 700.4743598327, 114.84451633329999, 1346.7158483327, 479.86306116670005]\n",
      "\n",
      "Students who didn't pass:\n",
      "show_statistics_data_and_graph:\n",
      "[736.4371648339999, 177.8367486667, 0.0, 0.0, 193.848226, 92.5547231666, 0.0, 138.052647, 144.1243173333, 0.0, 454.273163499, 115.15559099992998, 32.816891, 348.39415716703, 171.593366833, 16.5745846667, 100.0702155, 25.243540000000003, 9.61211033333, 18.889756499999997, 0.0, 0.0, 16.604203, 0.0, 198.6962631669, 666.3290910003, 88.1119545, 56.45108966666999, 0.0, 0.0, 0.0, 1329.9598305, 88.0103965, 3.56199133333, 253.23675750029997, 139.060529, 307.3006509996, 0.0, 9.4907925, 401.81893949967, 29.9067615, 21.1284496667, 0.0, 41.7199715, 219.926066667, 0.0, 313.50181033333, 489.7736965, 0.0, 374.5761038331, 706.5435295006, 0.0, 324.6302378336, 52.1289673334, 30.5951761667, 116.628876833, 413.3262124997, 34.0330873333, 0.0, 354.6223496663, 0.0, 100.06368333333, 85.29257, 59.340783666700005, 135.6825435, 275.16640700005996, 0.0, 0.0, 199.31994916669998, 48.1974151667, 4.2604045, 0.0, 0.0, 277.8489021664, 176.3818004999, 4.78649716667, 23.695871500029998, 0.0, 417.953548167, 1369.641421833, 0.0, 146.9410850001, 0.0, 0.0, 397.8826263333, 122.87407133333, 0.0, 22.7346656667, 84.1050015, 49.937148999970006, 106.2993215, 1138.3177014993998, 1764.5367983344001, 0.0, 2.30081433333, 0.0, 260.47024649996, 27.3957285, 345.17664533360005, 129.762569, 51.016355999999995, 0.0, 2.38093233333, 21.5715365, 0.0, 29.38455616663, 13.587055, 0.0, 924.060058833, 817.60166266567, 32.6861011667, 58.5606146667, 214.54059633330002, 5.92106983333, 64.29995600000001, 92.6896001666, 0.0, 0.0, 260.94864483347, 2.54122166667, 53.1295885, 0.0, 0.0, 13.442560666670001, 129.3303274997, 30.2541315, 49.7470893333, 26.5230981667, 15.5930261667, 0.0, 235.39055499926997, 1403.366643835, 62.78241916663, 3.3880415, 0.0, 0.0, 22.0889656667, 0.0, 26.5587726667, 108.9832133333, 5.75313916667, 63.3749175, 0.0, 72.9583085, 65.7383995, 21.086721, 663.5424139989, 156.1449683333, 0.0, 209.96127933370002, 125.44656916667, 80.6559995, 0.0, 0.0, 5.03956, 160.1049253333, 69.45209899999999, 0.0, 0.0, 2.99934966667, 131.70276883329998, 94.3237553333, 107.3523146666, 120.657056167, 91.64868466669999, 240.5959745003, 6.80688283333, 0.0, 666.393701501, 8.08317416667, 449.6269801663, 24.9669023333, 96.1137128333, 42.35008283337, 3.7103945, 65.0527071667, 3.35443916667, 517.8334496674, 0.0, 68.4192841666, 46.494977, 182.85550433323, 61.420162, 0.0, 106.08401216677001, 39.0104288333, 180.025886167, 16.2005246667, 8.1809285, 0.0, 0.0, 118.71332966671, 4.3800225, 619.9953998326, 38.87817050003, 75.87298200000001, 0.0, 18.8601366667, 3.50885666667, 218.55650866673005, 11.741084, 13.899305166700001, 959.9534376661, 0.0, 0.0, 12.9824898333, 45.5670335, 0.0, 37.853095, 84.5200338333, 117.195806333, 81.4415533333, 0.0, 71.5736406667, 366.5285674997, 0.0, 1768.5227493319999, 366.3194163334, 0.0, 29.7377383333, 1309.1846301673, 0.0, 0.0, 35.81870033337, 0.0, 90.6038805, 152.213267167, 5.51051366667, 0.0, 51.1061375, 179.4080511666, 0.0, 53.190095, 0.0, 464.4721495011001, 30.0975526667, 269.29544283309997, 739.8981633335999, 108.8893720001, 0.0, 0.0, 73.6289658334, 52.90383883333, 0.0, 37.2096841667, 0.0, 0.0, 89.38367816659999, 20.21580533333, 12.6563396667, 0.0, 53.4711175, 137.6759001667, 693.148515833, 0.0, 321.75119083367, 129.85920366667, 0.0, 299.9208106657, 0.0, 105.57724800007, 28.805244, 876.6454899994, 150.810125167, 113.43918199967, 565.6616593333, 0.0, 0.0, 2.70408483333, 87.8123571667, 56.4237046666, 870.43417899963, 0.0, 55.7923973333, 76.1418825, 2.7094835, 754.5790381659999, 43.0449731666, 0.0, 42.3039228333, 63.1747861666, 258.849289167, 51.7192425, 200.75333083330003, 292.8858635, 168.1376205, 6.5907805, 4.71476416667, 696.57720983267, 395.022838667, 48.67926333336, 291.7782771666, 0.0, 76.7225691667, 26.4703245, 114.066953, 247.9447956666, 430.7856678337, 0.0, 0.0, 12.822523, 1360.7287001670002, 266.32487266671006, 100.837620167, 118.30495933329999, 61.0835323333, 0.0, 0.0, 0.0, 621.5755701662999, 172.77872349963, 0.0, 0.0, 62.9114363333, 53.5962256666, 79.19556549999999, 3.50918183333, 9.62371516667, 10.0058803333, 11.2880193333, 0.0, 187.32349033330001, 30.8061303333, 0.0, 0.0, 0.0, 383.99752900006996, 2.01734133333, 0.0, 0.0, 0.0, 11.3308886667, 4.79064933333, 438.5049581666, 62.8929255, 0.0, 0.0, 134.5242838333, 32.4256981667, 0.0, 5.45628333333, 78.787234, 233.20550333356, 143.91027249997, 0.0, 0.0, 0.0, 9.771473833329999]\n",
      "\n",
      "Comparing lessons_completed:\n",
      "Students who passed:\n",
      "show_statistics_data_and_graph:\n",
      "[1, 0, 0, 0, 0, 0, 6, 1, 7, 2, 0, 0, 0, 10, 0, 1, 1, 1, 0, 0, 2, 12, 5, 6, 4, 0, 2, 3, 2, 5, 1, 0, 0, 0, 1, 4, 4, 5, 0, 10, 6, 1, 2, 0, 0, 0, 0, 13, 12, 0, 2, 0, 0, 3, 1, 4, 0, 1, 3, 0, 0, 2, 1, 5, 6, 3, 0, 2, 0, 0, 2, 0, 7, 0, 0, 0, 0, 0, 0, 1, 1, 2, 1, 3, 5, 1, 0, 1, 0, 1, 1, 1, 3, 3, 0, 0, 0, 2, 2, 1, 0, 0, 7, 2, 0, 0, 1, 0, 3, 9, 1, 2, 0, 1, 0, 5, 1, 5, 0, 3, 3, 7, 0, 0, 9, 0, 1, 5, 1, 0, 0, 1, 0, 6, 2, 0, 3, 0, 1, 3, 2, 1, 1, 1, 4, 0, 0, 0, 0, 1, 7, 4, 1, 4, 0, 2, 0, 0, 0, 2, 3, 3, 20, 15, 2, 0, 0, 0, 0, 2, 5, 4, 0, 1, 10, 6, 3, 6, 5, 0, 3, 1, 2, 2, 0, 2, 2, 0, 7, 0, 0, 4, 0, 1, 4, 1, 9, 1, 6, 1, 0, 0, 2, 2, 1, 3, 0, 1, 0, 1, 5, 0, 6, 0, 1, 1, 0, 20, 2, 4, 1, 1, 0, 0, 1, 3, 1, 3, 0, 0, 0, 5, 1, 4, 0, 3, 2, 2, 0, 0, 1, 3, 0, 0, 2, 1, 1, 5, 2, 1, 2, 0, 0, 1, 0, 0, 3, 3, 5, 0, 0, 2, 1, 3, 10, 1, 5, 1, 9, 5, 8, 0, 6, 0, 3, 2, 0, 0, 1, 0, 2, 0, 1, 0, 2, 2, 0, 7, 3, 0, 0, 4, 2, 2, 0, 2, 1, 0, 0, 6, 2, 4, 1, 3, 0, 0, 2, 0, 9, 0, 5, 9, 3, 9, 17, 0, 5, 3, 0, 0, 2, 6, 1, 7, 1, 2, 4, 0, 2, 1, 0, 0, 2, 0, 0, 1, 0, 1, 0, 0, 0, 4, 0, 1, 3, 0, 1, 0, 1, 2, 1, 3, 10, 0, 0, 0, 9, 3, 10, 0, 0, 0, 0, 0, 1, 4, 0, 0, 0, 1, 2, 0, 1, 0, 6, 0, 2, 0, 0, 1, 0, 5, 2, 0, 0, 5, 0, 0, 0, 5, 0, 2, 0, 0, 0, 0, 0, 1, 0, 0, 15, 2, 4, 1, 4, 0, 1, 2, 0, 0, 2, 0, 0, 0, 0, 0, 0, 2, 2, 2, 2, 0, 8, 0, 3, 2, 0, 9, 0, 1, 0, 5, 3, 4, 0, 2, 2, 0, 5, 4, 4, 0, 0, 0, 0, 0, 5, 1, 0, 1, 1, 2, 0, 2, 0, 6, 0, 0, 4, 2, 4, 1, 1, 0, 1, 5, 1, 0, 0, 5, 1, 1, 1, 0, 3, 0, 5, 1, 0, 0, 2, 0, 4, 0, 6, 0, 2, 0, 4, 2, 3, 8, 1, 5, 2, 1, 0, 3, 0, 3, 2, 0, 0, 1, 1, 1, 3, 0, 8, 0, 1, 2, 3, 8, 4, 0, 1, 0, 0, 0, 0, 18, 0, 3, 0, 7, 5, 1, 3, 4, 4, 0, 0, 0, 0, 2, 0, 6, 1, 6, 3, 0, 0, 2, 0, 0, 0, 5, 2, 2, 1, 1, 2, 0, 1, 0, 1, 1, 0, 0, 5, 0, 1, 0, 13, 0, 0, 6, 6, 0, 3, 2, 0, 0, 1, 1, 1, 0, 6, 0, 3, 1, 0, 0, 0, 0, 0, 1, 0, 0, 2, 4, 6, 2, 1, 0, 0, 1, 1, 8, 1, 2, 1, 1, 0, 4, 1, 0, 3, 1, 0, 4, 0, 4, 6, 1, 1, 1, 0, 1, 0, 1, 6, 1, 3, 2, 1, 0, 36, 2, 1, 0, 0, 0, 0, 2, 2, 5, 1, 2, 2, 0, 0, 8, 1, 8, 1]\n",
      "\n",
      "Students who didn't pass:\n",
      "show_statistics_data_and_graph:\n",
      "[8, 0, 0, 0, 0, 0, 0, 0, 0, 0, 5, 0, 0, 0, 1, 0, 0, 0, 0, 0, 0, 0, 0, 0, 2, 2, 0, 0, 0, 0, 0, 9, 1, 0, 0, 0, 1, 0, 0, 1, 1, 0, 0, 0, 0, 0, 0, 1, 0, 1, 3, 0, 4, 1, 0, 0, 2, 0, 0, 0, 0, 0, 0, 0, 0, 1, 0, 0, 1, 0, 0, 0, 0, 2, 3, 0, 0, 0, 1, 11, 0, 3, 0, 0, 4, 1, 0, 0, 0, 0, 0, 9, 20, 0, 0, 0, 1, 0, 2, 0, 0, 0, 0, 0, 0, 1, 0, 0, 5, 6, 0, 1, 1, 0, 2, 0, 0, 0, 1, 0, 0, 0, 0, 0, 1, 0, 0, 0, 0, 0, 3, 27, 0, 0, 0, 0, 0, 0, 0, 0, 0, 0, 0, 0, 1, 0, 5, 0, 0, 4, 1, 0, 0, 0, 0, 0, 0, 0, 0, 0, 1, 1, 1, 1, 0, 0, 0, 0, 2, 0, 2, 0, 0, 1, 0, 0, 0, 1, 0, 1, 0, 3, 0, 0, 0, 0, 1, 0, 0, 0, 0, 0, 0, 10, 0, 0, 0, 0, 0, 2, 0, 0, 9, 0, 0, 0, 0, 0, 0, 1, 0, 0, 0, 0, 5, 0, 1, 0, 0, 0, 16, 0, 0, 0, 0, 0, 0, 0, 0, 1, 1, 0, 0, 0, 1, 0, 7, 1, 1, 0, 0, 0, 0, 0, 0, 0, 0, 1, 0, 0, 0, 0, 0, 5, 0, 1, 1, 0, 1, 0, 0, 0, 3, 3, 0, 2, 0, 0, 0, 0, 0, 3, 0, 0, 0, 0, 4, 1, 0, 0, 1, 1, 1, 2, 0, 0, 0, 0, 1, 2, 1, 2, 0, 0, 0, 1, 2, 1, 0, 0, 0, 6, 1, 1, 0, 0, 0, 0, 0, 8, 1, 0, 0, 0, 0, 0, 0, 0, 0, 0, 0, 0, 0, 0, 0, 0, 1, 0, 0, 0, 0, 0, 0, 7, 0, 0, 0, 1, 0, 0, 0, 0, 0, 2, 0, 0, 0, 0]\n"
     ]
    }
   ],
   "source": [
    "######################################\n",
    "#                 13                 #\n",
    "######################################\n",
    "\n",
    "## 针对通过项目和没有通过项目的两组学生，为我们之前研究的三个数据指标制作直方图。\n",
    "## 你也可以为其它你所检验的数据指标来制作直方图。\n",
    "\n",
    "import matplotlib.pyplot as plt\n",
    "\n",
    "def show_statistics_data_and_graph(student_number_list):\n",
    "    print (\"show_statistics_data_and_graph:\")\n",
    "    print (student_number_list)\n",
    "    plt.hist(student_number_list)\n",
    "    \n",
    "print(\"Comparing total_minutes_visited:\")\n",
    "print (\"Students who passed:\")\n",
    "show_statistics_data_and_graph(list(passing1.values()))\n",
    "print (\"\")\n",
    "print (\"Students who didn't pass:\")\n",
    "show_statistics_data_and_graph(list(non_passing1.values()))\n",
    "\n",
    "print(\"\")\n",
    "print(\"Comparing lessons_completed:\")\n",
    "print (\"Students who passed:\")\n",
    "show_statistics_data_and_graph(list(passing2.values()))\n",
    "print (\"\")\n",
    "print (\"Students who didn't pass:\")\n",
    "show_statistics_data_and_graph(list(non_passing2.values()))"
   ]
  },
  {
   "cell_type": "markdown",
   "metadata": {},
   "source": [
    "## 改进图表及分享发现"
   ]
  },
  {
   "cell_type": "code",
   "execution_count": 414,
   "metadata": {
    "collapsed": true
   },
   "outputs": [],
   "source": [
    "######################################\n",
    "#                 14                 #\n",
    "######################################\n",
    "\n",
    "## 至少改进一幅之前的可视化图表，尝试导入 seaborn 库使你的图表看起来更美观。\n",
    "## 加入轴标签及表头，并修改一个或多个 hist() 内的变量。"
   ]
  }
 ],
 "metadata": {
  "anaconda-cloud": {},
  "kernelspec": {
   "display_name": "Python 3",
   "language": "python",
   "name": "python3"
  },
  "language_info": {
   "codemirror_mode": {
    "name": "ipython",
    "version": 3
   },
   "file_extension": ".py",
   "mimetype": "text/x-python",
   "name": "python",
   "nbconvert_exporter": "python",
   "pygments_lexer": "ipython3",
   "version": "3.6.1"
  }
 },
 "nbformat": 4,
 "nbformat_minor": 1
}
